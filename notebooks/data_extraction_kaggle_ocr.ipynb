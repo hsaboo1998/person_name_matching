{
 "cells": [
  {
   "cell_type": "code",
   "execution_count": 2,
   "metadata": {
    "execution": {
     "iopub.execute_input": "2024-10-30T10:21:19.992282Z",
     "iopub.status.busy": "2024-10-30T10:21:19.991703Z",
     "iopub.status.idle": "2024-10-30T10:21:20.029576Z",
     "shell.execute_reply": "2024-10-30T10:21:20.028673Z",
     "shell.execute_reply.started": "2024-10-30T10:21:19.992241Z"
    }
   },
   "outputs": [],
   "source": [
    "import cv2\n",
    "import pytesseract\n",
    "import numpy as np\n",
    "import pandas as pd\n",
    "import time"
   ]
  },
  {
   "cell_type": "code",
   "execution_count": 3,
   "metadata": {
    "execution": {
     "iopub.execute_input": "2024-10-30T10:21:23.138968Z",
     "iopub.status.busy": "2024-10-30T10:21:23.138526Z",
     "iopub.status.idle": "2024-10-30T10:21:27.219301Z",
     "shell.execute_reply": "2024-10-30T10:21:27.218211Z",
     "shell.execute_reply.started": "2024-10-30T10:21:23.138927Z"
    }
   },
   "outputs": [
    {
     "data": {
      "text/plain": [
       "4.069092512130737"
      ]
     },
     "execution_count": 3,
     "metadata": {},
     "output_type": "execute_result"
    }
   ],
   "source": [
    "np.random.seed(42)\n",
    "nums = np.random.choice(np.arange(300000), size=5000)\n",
    "now = time.time()\n",
    "images = [cv2.imread('/kaggle/input/handwriting-recognition/train_v2/train/TRAIN_' + ''.join(['0']*(5-len(str(i)))) + str(i) +'.jpg', 0) for i in nums]\n",
    "time.time()-now"
   ]
  },
  {
   "cell_type": "code",
   "execution_count": 4,
   "metadata": {
    "execution": {
     "iopub.execute_input": "2024-10-30T10:23:13.414260Z",
     "iopub.status.busy": "2024-10-30T10:23:13.413315Z",
     "iopub.status.idle": "2024-10-30T10:40:08.585924Z",
     "shell.execute_reply": "2024-10-30T10:40:08.584734Z",
     "shell.execute_reply.started": "2024-10-30T10:23:13.414217Z"
    }
   },
   "outputs": [
    {
     "data": {
      "text/plain": [
       "1015.1650409698486"
      ]
     },
     "execution_count": 4,
     "metadata": {},
     "output_type": "execute_result"
    }
   ],
   "source": [
    "now = time.time()\n",
    "texts = [pytesseract.image_to_string(image) for image in images]\n",
    "time.time()-now"
   ]
  },
  {
   "cell_type": "code",
   "execution_count": 5,
   "metadata": {
    "execution": {
     "iopub.execute_input": "2024-10-30T10:40:08.589130Z",
     "iopub.status.busy": "2024-10-30T10:40:08.588347Z",
     "iopub.status.idle": "2024-10-30T10:40:08.607673Z",
     "shell.execute_reply": "2024-10-30T10:40:08.606464Z",
     "shell.execute_reply.started": "2024-10-30T10:40:08.589074Z"
    }
   },
   "outputs": [],
   "source": [
    "np.array(texts).dump(open('ocr_names.npy', 'wb'))"
   ]
  },
  {
   "cell_type": "code",
   "execution_count": 10,
   "metadata": {
    "execution": {
     "iopub.execute_input": "2024-10-30T10:45:39.167899Z",
     "iopub.status.busy": "2024-10-30T10:45:39.167432Z",
     "iopub.status.idle": "2024-10-30T10:45:39.179738Z",
     "shell.execute_reply": "2024-10-30T10:45:39.178531Z",
     "shell.execute_reply.started": "2024-10-30T10:45:39.167856Z"
    }
   },
   "outputs": [],
   "source": [
    "ref_names = np.array(['TRAIN_' + ''.join(['0']*(5-len(str(i)))) + str(i) for i in nums])\n",
    "ref_names.dump(open('ref_names.npy', 'wb'))"
   ]
  },
  {
   "cell_type": "code",
   "execution_count": 22,
   "metadata": {
    "execution": {
     "iopub.execute_input": "2024-10-30T10:53:24.709232Z",
     "iopub.status.busy": "2024-10-30T10:53:24.708211Z",
     "iopub.status.idle": "2024-10-30T10:53:25.054539Z",
     "shell.execute_reply": "2024-10-30T10:53:25.053440Z",
     "shell.execute_reply.started": "2024-10-30T10:53:24.709185Z"
    }
   },
   "outputs": [],
   "source": [
    "df_true = pd.read_csv('/kaggle/input/handwriting-recognition/written_name_train_v2.csv')"
   ]
  },
  {
   "cell_type": "code",
   "execution_count": 32,
   "metadata": {
    "execution": {
     "iopub.execute_input": "2024-10-30T10:54:48.917386Z",
     "iopub.status.busy": "2024-10-30T10:54:48.916968Z",
     "iopub.status.idle": "2024-10-30T10:54:48.923839Z",
     "shell.execute_reply": "2024-10-30T10:54:48.922672Z",
     "shell.execute_reply.started": "2024-10-30T10:54:48.917340Z"
    }
   },
   "outputs": [],
   "source": [
    "# ref_names = [ref_name+'.jpg' for ref_name in ref_names]\n",
    "df_ocr = pd.DataFrame({'FILENAME': ref_names, 'ocr_name': texts})"
   ]
  },
  {
   "cell_type": "code",
   "execution_count": 33,
   "metadata": {
    "execution": {
     "iopub.execute_input": "2024-10-30T10:54:50.167441Z",
     "iopub.status.busy": "2024-10-30T10:54:50.167025Z",
     "iopub.status.idle": "2024-10-30T10:54:50.315292Z",
     "shell.execute_reply": "2024-10-30T10:54:50.314221Z",
     "shell.execute_reply.started": "2024-10-30T10:54:50.167402Z"
    }
   },
   "outputs": [],
   "source": [
    "df = df_true.merge(df_ocr, on='FILENAME', how='inner')"
   ]
  },
  {
   "cell_type": "code",
   "execution_count": 46,
   "metadata": {
    "execution": {
     "iopub.execute_input": "2024-10-30T11:03:46.276932Z",
     "iopub.status.busy": "2024-10-30T11:03:46.276457Z",
     "iopub.status.idle": "2024-10-30T11:03:46.305661Z",
     "shell.execute_reply": "2024-10-30T11:03:46.304477Z",
     "shell.execute_reply.started": "2024-10-30T11:03:46.276889Z"
    }
   },
   "outputs": [],
   "source": [
    "import re\n",
    "df['ocr_name'] = df['ocr_name'].apply(lambda x: re.sub('([^a-z0-9]|prenom|nom)', '', x.lower()))\n",
    "df['true_name'] = df['IDENTITY'].apply(lambda x: str(x).lower())"
   ]
  },
  {
   "cell_type": "code",
   "execution_count": 48,
   "metadata": {
    "execution": {
     "iopub.execute_input": "2024-10-30T11:04:57.601936Z",
     "iopub.status.busy": "2024-10-30T11:04:57.601065Z",
     "iopub.status.idle": "2024-10-30T11:04:57.620268Z",
     "shell.execute_reply": "2024-10-30T11:04:57.619118Z",
     "shell.execute_reply.started": "2024-10-30T11:04:57.601889Z"
    }
   },
   "outputs": [],
   "source": [
    "df[['ocr_name', 'true_name']].to_csv('ocr_names.csv')"
   ]
  }
 ],
 "metadata": {
  "kaggle": {
   "accelerator": "none",
   "dataSources": [
    {
     "datasetId": 818027,
     "sourceId": 1400106,
     "sourceType": "datasetVersion"
    },
    {
     "isSourceIdPinned": true,
     "modelId": 151185,
     "modelInstanceId": 128300,
     "sourceId": 151110,
     "sourceType": "modelInstanceVersion"
    }
   ],
   "dockerImageVersionId": 30786,
   "isGpuEnabled": false,
   "isInternetEnabled": false,
   "language": "python",
   "sourceType": "notebook"
  },
  "kernelspec": {
   "display_name": "Python 3 (ipykernel)",
   "language": "python",
   "name": "python3"
  },
  "language_info": {
   "codemirror_mode": {
    "name": "ipython",
    "version": 3
   },
   "file_extension": ".py",
   "mimetype": "text/x-python",
   "name": "python",
   "nbconvert_exporter": "python",
   "pygments_lexer": "ipython3",
   "version": "3.11.3"
  }
 },
 "nbformat": 4,
 "nbformat_minor": 4
}
