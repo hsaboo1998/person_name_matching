{
 "cells": [
  {
   "cell_type": "code",
   "execution_count": 41,
   "id": "e43f638c",
   "metadata": {},
   "outputs": [],
   "source": [
    "from SPARQLWrapper import SPARQLWrapper, JSON\n",
    "import time\n",
    "import json\n",
    "import numpy as np"
   ]
  },
  {
   "cell_type": "code",
   "execution_count": 58,
   "id": "ab0fc83d",
   "metadata": {},
   "outputs": [
    {
     "name": "stdout",
     "output_type": "stream",
     "text": [
      "Start, Language = en\n",
      "The read operation timed out\n",
      "Count = 5000\n",
      "Start, Language = zh\n",
      "The read operation timed out\n",
      "Count = 5000\n",
      "The read operation timed out\n",
      "Count = 500\n",
      "The read operation timed out\n",
      "Count = 200\n",
      "Start, Language = ru\n",
      "The read operation timed out\n",
      "Count = 5000\n",
      "The read operation timed out\n",
      "Count = 500\n",
      "The read operation timed out\n",
      "Count = 200\n",
      "Start, Language = de\n",
      "The read operation timed out\n",
      "Count = 5000\n",
      "Start, Language = fr\n",
      "The read operation timed out\n",
      "Count = 5000\n",
      "Start, Language = es\n",
      "The read operation timed out\n",
      "Count = 5000\n",
      "Start, Language = pt\n",
      "The read operation timed out\n",
      "Count = 5000\n",
      "Start, Language = it\n",
      "The read operation timed out\n",
      "Count = 5000\n"
     ]
    }
   ],
   "source": [
    "def get_wikidata_query(lang:str, count: int):\n",
    "    return f\"\"\"\n",
    "    SELECT DISTINCT ?name ((STR(?nameLabel)) AS ?nameLabelString) ((STR(?nameAltLabel)) AS ?nameAltLabelString)\n",
    "    WHERE\n",
    "    {{\n",
    "        ?name wdt:P31 wd:Q5;\n",
    "              rdfs:label ?nameLabel;\n",
    "              skos:altLabel ?nameAltLabel.\n",
    "        SERVICE wikibase:label {{bd:serviceParam wikibase:language \"en\".}}\n",
    "        FILTER(?nameAltLabel!='' && STR(?nameAltLabel)!=STR(?nameLabel) && REGEX(STR(?nameAltLabel), \"[^A-Za-z]+\")=false && REGEX(STR(?nameLabel), \"[^A-Za-z]+\")=false && (LANG(?nameLabel)='{lang}' || LANG(?nameAltLabel)='{lang}'))\n",
    "    }}\n",
    "    LIMIT {count}\n",
    "    \"\"\"\n",
    "sparql = SPARQLWrapper(\"https://query.wikidata.org/sparql\")\n",
    "sparql.setReturnFormat(JSON)\n",
    "sparql.setTimeout(60)\n",
    "results = {}\n",
    "for lang in ['en', 'zh', 'ru', 'de', 'fr', 'es', 'pt', 'it']:\n",
    "    print(f\"Start, Language = {lang}\")\n",
    "    for count in [5000, 500, 200]:\n",
    "        try:\n",
    "            query = get_wikidata_query(lang, count)\n",
    "            sparql.setQuery(query)\n",
    "            results[lang]=sparql.query().convert()\n",
    "            break\n",
    "        except Exception as e:\n",
    "            print(e)\n",
    "            time.sleep(2)\n",
    "        print(f\"Count = {count}\")"
   ]
  },
  {
   "cell_type": "code",
   "execution_count": 62,
   "id": "6e2ffc24",
   "metadata": {},
   "outputs": [],
   "source": [
    "with open('results_lang.json', 'w') as f:\n",
    "    json.dump(results, f)"
   ]
  },
  {
   "cell_type": "code",
   "execution_count": 51,
   "id": "05a7b04d",
   "metadata": {},
   "outputs": [],
   "source": [
    "def get_wikidata_query():\n",
    "    return f\"\"\"\n",
    "    SELECT DISTINCT ?name (LCASE((STR(?nameLabel))) AS ?nameLabelString) (LCASE((STR(?nameAltLabel))) AS ?nameAltLabelString)\n",
    "    WHERE\n",
    "    {{\n",
    "        ?name wdt:P31 wd:Q5;\n",
    "              rdfs:label ?nameLabel;\n",
    "              skos:altLabel ?nameAltLabel.\n",
    "        SERVICE wikibase:label {{bd:serviceParam wikibase:language \"en\".}}\n",
    "        FILTER(?nameAltLabel!='' && STR(?nameAltLabel)!=STR(?nameLabel) && REGEX(STR(?nameAltLabel), \"[^A-Za-z]+\")=false && REGEX(STR(?nameLabel), \"[^A-Za-z]+\")=false)\n",
    "    }}\n",
    "    LIMIT {10000}\n",
    "    \"\"\"\n",
    "sparql = SPARQLWrapper(\"https://query.wikidata.org/sparql\")\n",
    "sparql.setReturnFormat(JSON)\n",
    "sparql.setTimeout(60)\n",
    "try:\n",
    "    query = get_wikidata_query()\n",
    "    sparql.setQuery(query)\n",
    "    results=sparql.query().convert()\n",
    "except Exception as e:\n",
    "    print(e)\n",
    "    time.sleep(2)"
   ]
  },
  {
   "cell_type": "code",
   "execution_count": 54,
   "id": "b15acc46",
   "metadata": {},
   "outputs": [],
   "source": [
    "with open('results.json', 'w') as f:\n",
    "    json.dump(results, f)"
   ]
  },
  {
   "cell_type": "code",
   "execution_count": 103,
   "id": "3135de7a",
   "metadata": {},
   "outputs": [],
   "source": [
    "def get_wikidata_query():\n",
    "    return f\"\"\"\n",
    "    SELECT DISTINCT ?name ?nameLabel\n",
    "    WHERE\n",
    "    {{\n",
    "        ?name wdt:P31 wd:Q5;\n",
    "              wdt:P735 ?givenName.\n",
    "        ?givenName wdt:P527 ?givenNameParts.\n",
    "        ?givenNameParts rdfs:label ?givenNamePartsLabel.\n",
    "        SERVICE wikibase:label {{bd:serviceParam wikibase:language \"en\".}}\n",
    "        FILTER(?givenNamePartsLabel != \"\")\n",
    "    }}\n",
    "    LIMIT {10000}\n",
    "    \"\"\"\n",
    "sparql = SPARQLWrapper(\"https://query.wikidata.org/sparql\")\n",
    "sparql.setReturnFormat(JSON)\n",
    "sparql.setTimeout(60)\n",
    "try:\n",
    "    query = get_wikidata_query()\n",
    "    sparql.setQuery(query)\n",
    "    results=sparql.query().convert()\n",
    "except Exception as e:\n",
    "    print(e)\n",
    "    time.sleep(2)"
   ]
  },
  {
   "cell_type": "code",
   "execution_count": 105,
   "id": "8521f96b",
   "metadata": {},
   "outputs": [],
   "source": [
    "with open('results_compound_names.json', 'w') as f:\n",
    "    json.dump(results, f)"
   ]
  }
 ],
 "metadata": {
  "kernelspec": {
   "display_name": "Python 3 (ipykernel)",
   "language": "python",
   "name": "python3"
  },
  "language_info": {
   "codemirror_mode": {
    "name": "ipython",
    "version": 3
   },
   "file_extension": ".py",
   "mimetype": "text/x-python",
   "name": "python",
   "nbconvert_exporter": "python",
   "pygments_lexer": "ipython3",
   "version": "3.11.3"
  }
 },
 "nbformat": 4,
 "nbformat_minor": 5
}
